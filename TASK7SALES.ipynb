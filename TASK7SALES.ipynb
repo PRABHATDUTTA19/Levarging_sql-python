{
 "cells": [
  {
   "cell_type": "markdown",
   "id": "58307d0c",
   "metadata": {},
   "source": [
    "# Sales Dataset Analysis\n",
    "\n",
    "This project demonstrates how to use SQLite with Python to store, query, and visualize sales data. The workflow includes:\n",
    "\n",
    "- Creating a SQLite database and table for sales data\n",
    "- Inserting sample sales records\n",
    "- Querying total quantity and revenue per product\n",
    "- Visualizing the results using Matplotlib\n",
    "\n",
    "## Requirements\n",
    "\n",
    "- Python 3.x\n",
    "- pandas\n",
    "- matplotlib"
   ]
  },
  {
   "cell_type": "markdown",
   "id": "b41ca0f5",
   "metadata": {},
   "source": [
    "## Importing sqlite and other libraries"
   ]
  },
  {
   "cell_type": "code",
   "execution_count": 80,
   "id": "f936e63e",
   "metadata": {},
   "outputs": [],
   "source": [
    "import sqlite3 as sqlite\n",
    "import pandas as pd\n",
    "import matplotlib.pyplot as plt\n"
   ]
  },
  {
   "cell_type": "markdown",
   "id": "632a16b6",
   "metadata": {},
   "source": [
    "## Connection "
   ]
  },
  {
   "cell_type": "code",
   "execution_count": 81,
   "id": "746c2904",
   "metadata": {},
   "outputs": [],
   "source": [
    "conn = sqlite.connect(\"sales_dataset.db\")\n",
    "cursor = conn.cursor()\n"
   ]
  },
  {
   "cell_type": "markdown",
   "id": "2aeb0a84",
   "metadata": {},
   "source": [
    "## CREATING DATABASE"
   ]
  },
  {
   "cell_type": "code",
   "execution_count": null,
   "id": "1601bbe6",
   "metadata": {},
   "outputs": [
    {
     "data": {
      "text/plain": [
       "<sqlite3.Cursor at 0x2a52f134ac0>"
      ]
     },
     "execution_count": 84,
     "metadata": {},
     "output_type": "execute_result"
    }
   ],
   "source": [
    "\n",
    "cursor.execute('''\n",
    "CREATE TABLE IF NOT EXISTS sales_dataset(\n",
    "        id INTEGER PRIMARY KEY,\n",
    "        Product TEXT,\n",
    "        Quantity INTEGER,\n",
    "        Price REAL\n",
    ")\n",
    "''')"
   ]
  },
  {
   "cell_type": "markdown",
   "id": "08a999a7",
   "metadata": {},
   "source": [
    "## SAMPLE DATA"
   ]
  },
  {
   "cell_type": "code",
   "execution_count": 86,
   "id": "b54d0524",
   "metadata": {},
   "outputs": [],
   "source": [
    "sample_data = [\n",
    "    (\"Product A\", 10, 15.0),\n",
    "    (\"Product B\", 5, 25.0),\n",
    "    (\"Product C\", 8, 12.5),\n",
    "    (\"Product A\", 7, 15.0),\n",
    "    (\"Product F\", 3, 25.0),\n",
    "    (\"Product C\", 10, 45.0),\n",
    "    (\"Product D\", 5, 5.0),\n",
    "    (\"Product A\", 8, 52.5),\n",
    "    (\"Product B\", 7, 55.0),\n",
    "    (\"Product C\", 3, 21.0)\n",
    "]"
   ]
  },
  {
   "cell_type": "markdown",
   "id": "ec264aa7",
   "metadata": {},
   "source": [
    "## Query Total Quantity"
   ]
  },
  {
   "cell_type": "code",
   "execution_count": null,
   "id": "28243cd5",
   "metadata": {},
   "outputs": [
    {
     "name": "stdout",
     "output_type": "stream",
     "text": [
      "Sales Summary:\n",
      "     Product  TOTAL_QUANTITY  TOTAL_PRICE\n",
      "0  Product A              35         97.5\n",
      "1  Product B              17        105.0\n",
      "2  Product C              29         91.0\n",
      "3  Product D              15         50.0\n",
      "4  Product E               5          5.0\n",
      "5  Product F              14        102.5\n",
      "6  Product G               7         55.0\n",
      "7  Product H               3         21.0\n",
      "8  Product L               7         15.0\n"
     ]
    }
   ],
   "source": [
    "# Check if the table is empty before inserting to avoid duplicate inserts and locking\n",
    "cursor.execute(\"SELECT COUNT(*) FROM sales_dataset\")\n",
    "count = cursor.fetchone()[0]\n",
    "if count == 0:\n",
    "    cursor.executemany(\"INSERT INTO sales_dataset(Product, Quantity, Price) VALUES(?, ?, ?)\", sample_data)\n",
    "    conn.commit()\n",
    "\n",
    "query = '''\n",
    "SELECT \n",
    "    product,\n",
    "    SUM(quantity) as TOTAL_QUANTITY,\n",
    "    SUM(PRICE) as TOTAL_PRICE\n",
    "FROM \n",
    "    sales_dataset\n",
    "GROUP BY Product\n",
    "'''\n",
    "\n",
    "df = pd.read_sql_query(query, conn)\n",
    "\n",
    "print(\"Sales Summary:\")\n",
    "print(df)"
   ]
  },
  {
   "cell_type": "markdown",
   "id": "d75c636f",
   "metadata": {},
   "source": [
    "## Generating Charts"
   ]
  },
  {
   "cell_type": "code",
   "execution_count": 93,
   "id": "47235227",
   "metadata": {},
   "outputs": [
    {
     "data": {
      "image/png": "[encoded data removed]",
      "text/plain": [
       "<Figure size 1200x400 with 1 Axes>"
      ]
     },
     "metadata": {},
     "output_type": "display_data"
    }
   ],
   "source": [
    "plt.figure(figsize=(12,4))\n",
    "plt.bar(df['Product'], df['TOTAL_PRICE'], color='skyblue')\n",
    "plt.xlabel(\"Product\")\n",
    "plt.ylabel(\"Total Revenue\")\n",
    "plt.title(\"Total Revenue per Product\")\n",
    "plt.tight_layout()\n",
    "plt.show()"
   ]
  }
 ],
 "metadata": {
  "kernelspec": {
   "display_name": "Python 3",
   "language": "python",
   "name": "python3"
  },
  "language_info": {
   "codemirror_mode": {
    "name": "ipython",
    "version": 3
   },
   "file_extension": ".py",
   "mimetype": "text/x-python",
   "name": "python",
   "nbconvert_exporter": "python",
   "pygments_lexer": "ipython3",
   "version": "3.13.5"
  }
 },
 "nbformat": 4,
 "nbformat_minor": 5
}
